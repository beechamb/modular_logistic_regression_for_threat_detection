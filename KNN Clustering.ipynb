{
 "cells": [
  {
   "cell_type": "markdown",
   "id": "9a6b9518",
   "metadata": {},
   "source": [
    "### Introduction\n",
    "\n",
    "In this notebook (which is subsequent to the notebook in this repository titled \"Penetration Testing as a Service Automation Ideas\"), I explore possibilities for using the 'unsupervised' K nearest neighbors clustering algorithm in scikit learn. It is considered unsupervised because I will use data that \"isn't labeled\" - I put quotations marks because I will be using the same dataset that was used in the logistic regression notebook (https://github.com/beechamb/exploring_threat_data/blob/main/Penetration%20Testing%20as%20a%20Service%20Automation%20Ideas.ipynb), but without the dependent column. I imagine that this type of model would be used when a company has not experienced any threats/attacks/breaches of any kind in the past and do not know where there weak points exist.\n",
    "\n",
    "First, I preprocess the data (this includes: one hot encoding of categorical variabes) using the python modules here: https://github.com/beechamb/exploring_threat_data/blob/main/data_utils.py. \n",
    "\n",
    "*NOTE: because the data is theoretically unlabeled we would not need to split into training and testing data as the testing data would come through continual model monitoring\n",
    "\n",
    "Then, I train a KNN model with 2 groups."
   ]
  },
  {
   "cell_type": "code",
   "execution_count": 100,
   "id": "dbaf0a0e",
   "metadata": {},
   "outputs": [],
   "source": [
    "import pandas as pd\n",
    "import numpy as np\n",
    "import seaborn as sns\n",
    "import sklearn as sk\n",
    "from sklearn.model_selection import train_test_split\n",
    "from sklearn.cluster import KMeans\n",
    "\n",
    "#Import defined modules for data processing\n",
    "from data_utils import data_processing as dp"
   ]
  },
  {
   "cell_type": "code",
   "execution_count": 101,
   "id": "42648135",
   "metadata": {},
   "outputs": [],
   "source": [
    "#set project path\n",
    "project_folder = 'C:/Users/beech/Documents/Jobs/Cobalt/'"
   ]
  },
  {
   "cell_type": "code",
   "execution_count": 102,
   "id": "cc6d134e",
   "metadata": {},
   "outputs": [
    {
     "data": {
      "text/html": [
       "<div>\n",
       "<style scoped>\n",
       "    .dataframe tbody tr th:only-of-type {\n",
       "        vertical-align: middle;\n",
       "    }\n",
       "\n",
       "    .dataframe tbody tr th {\n",
       "        vertical-align: top;\n",
       "    }\n",
       "\n",
       "    .dataframe thead th {\n",
       "        text-align: right;\n",
       "    }\n",
       "</style>\n",
       "<table border=\"1\" class=\"dataframe\">\n",
       "  <thead>\n",
       "    <tr style=\"text-align: right;\">\n",
       "      <th></th>\n",
       "      <th>timestamp</th>\n",
       "      <th>device_id</th>\n",
       "      <th>device_type</th>\n",
       "      <th>cpu_usage</th>\n",
       "      <th>memory_usage</th>\n",
       "      <th>network_in_kb</th>\n",
       "      <th>network_out_kb</th>\n",
       "      <th>packet_rate</th>\n",
       "      <th>avg_response_time_ms</th>\n",
       "      <th>service_access_count</th>\n",
       "      <th>failed_auth_attempts</th>\n",
       "      <th>is_encrypted</th>\n",
       "      <th>geo_location_variation</th>\n",
       "      <th>label</th>\n",
       "    </tr>\n",
       "  </thead>\n",
       "  <tbody>\n",
       "    <tr>\n",
       "      <th>0</th>\n",
       "      <td>2025-06-20 12:51:55.452400</td>\n",
       "      <td>thermostat_38</td>\n",
       "      <td>thermostat</td>\n",
       "      <td>66.74</td>\n",
       "      <td>75.54</td>\n",
       "      <td>77</td>\n",
       "      <td>849</td>\n",
       "      <td>372</td>\n",
       "      <td>419.92</td>\n",
       "      <td>2</td>\n",
       "      <td>7</td>\n",
       "      <td>0</td>\n",
       "      <td>18.19</td>\n",
       "      <td>Normal</td>\n",
       "    </tr>\n",
       "    <tr>\n",
       "      <th>1</th>\n",
       "      <td>2025-06-20 12:51:56.452400</td>\n",
       "      <td>smart_light_37</td>\n",
       "      <td>smart</td>\n",
       "      <td>19.92</td>\n",
       "      <td>16.70</td>\n",
       "      <td>526</td>\n",
       "      <td>1492</td>\n",
       "      <td>635</td>\n",
       "      <td>32.69</td>\n",
       "      <td>3</td>\n",
       "      <td>3</td>\n",
       "      <td>1</td>\n",
       "      <td>2.98</td>\n",
       "      <td>Normal</td>\n",
       "    </tr>\n",
       "    <tr>\n",
       "      <th>2</th>\n",
       "      <td>2025-06-20 12:51:57.452400</td>\n",
       "      <td>sensor_1</td>\n",
       "      <td>sensor</td>\n",
       "      <td>10.08</td>\n",
       "      <td>48.62</td>\n",
       "      <td>577</td>\n",
       "      <td>923</td>\n",
       "      <td>220</td>\n",
       "      <td>418.91</td>\n",
       "      <td>4</td>\n",
       "      <td>10</td>\n",
       "      <td>0</td>\n",
       "      <td>9.66</td>\n",
       "      <td>Normal</td>\n",
       "    </tr>\n",
       "    <tr>\n",
       "      <th>3</th>\n",
       "      <td>2025-06-20 12:51:58.452400</td>\n",
       "      <td>sensor_9</td>\n",
       "      <td>sensor</td>\n",
       "      <td>68.60</td>\n",
       "      <td>22.46</td>\n",
       "      <td>400</td>\n",
       "      <td>240</td>\n",
       "      <td>769</td>\n",
       "      <td>66.81</td>\n",
       "      <td>5</td>\n",
       "      <td>6</td>\n",
       "      <td>1</td>\n",
       "      <td>15.00</td>\n",
       "      <td>Anomaly_DoS</td>\n",
       "    </tr>\n",
       "    <tr>\n",
       "      <th>4</th>\n",
       "      <td>2025-06-20 12:51:59.452400</td>\n",
       "      <td>smart_light_31</td>\n",
       "      <td>smart</td>\n",
       "      <td>50.62</td>\n",
       "      <td>48.15</td>\n",
       "      <td>104</td>\n",
       "      <td>1176</td>\n",
       "      <td>605</td>\n",
       "      <td>340.41</td>\n",
       "      <td>7</td>\n",
       "      <td>1</td>\n",
       "      <td>1</td>\n",
       "      <td>11.21</td>\n",
       "      <td>Normal</td>\n",
       "    </tr>\n",
       "  </tbody>\n",
       "</table>\n",
       "</div>"
      ],
      "text/plain": [
       "                    timestamp       device_id device_type  cpu_usage  \\\n",
       "0  2025-06-20 12:51:55.452400   thermostat_38  thermostat      66.74   \n",
       "1  2025-06-20 12:51:56.452400  smart_light_37       smart      19.92   \n",
       "2  2025-06-20 12:51:57.452400        sensor_1      sensor      10.08   \n",
       "3  2025-06-20 12:51:58.452400        sensor_9      sensor      68.60   \n",
       "4  2025-06-20 12:51:59.452400  smart_light_31       smart      50.62   \n",
       "\n",
       "   memory_usage  network_in_kb  network_out_kb  packet_rate  \\\n",
       "0         75.54             77             849          372   \n",
       "1         16.70            526            1492          635   \n",
       "2         48.62            577             923          220   \n",
       "3         22.46            400             240          769   \n",
       "4         48.15            104            1176          605   \n",
       "\n",
       "   avg_response_time_ms  service_access_count  failed_auth_attempts  \\\n",
       "0                419.92                     2                     7   \n",
       "1                 32.69                     3                     3   \n",
       "2                418.91                     4                    10   \n",
       "3                 66.81                     5                     6   \n",
       "4                340.41                     7                     1   \n",
       "\n",
       "   is_encrypted  geo_location_variation        label  \n",
       "0             0                   18.19       Normal  \n",
       "1             1                    2.98       Normal  \n",
       "2             0                    9.66       Normal  \n",
       "3             1                   15.00  Anomaly_DoS  \n",
       "4             1                   11.21       Normal  "
      ]
     },
     "execution_count": 102,
     "metadata": {},
     "output_type": "execute_result"
    }
   ],
   "source": [
    "#read in data\n",
    "df = pd.read_csv(project_folder +'data/smart_system_anomaly_dataset.csv').fillna(0)\n",
    "df.head()"
   ]
  },
  {
   "cell_type": "code",
   "execution_count": 103,
   "id": "bc72a4c0",
   "metadata": {},
   "outputs": [],
   "source": [
    "df['threat_cat'] = df['label'].apply(lambda x: 0 if x == 'Normal' else 1)"
   ]
  },
  {
   "cell_type": "code",
   "execution_count": 104,
   "id": "cd96120e",
   "metadata": {},
   "outputs": [],
   "source": [
    "df3 = dp.process_data(df, ['label','timestamp'],['device_id','device_type'])"
   ]
  },
  {
   "cell_type": "code",
   "execution_count": 105,
   "id": "2efab911",
   "metadata": {},
   "outputs": [],
   "source": [
    "cols = df3.columns\n",
    "df3[cols] = df3[cols].apply(pd.to_numeric, errors='coerce', axis=1)"
   ]
  },
  {
   "cell_type": "markdown",
   "id": "42d8081e",
   "metadata": {},
   "source": [
    "### Train"
   ]
  },
  {
   "cell_type": "code",
   "execution_count": 106,
   "id": "a0f67ac8",
   "metadata": {},
   "outputs": [
    {
     "data": {
      "text/plain": [
       "array([1, 1, 1, ..., 0, 0, 0])"
      ]
     },
     "execution_count": 106,
     "metadata": {},
     "output_type": "execute_result"
    }
   ],
   "source": [
    "kmeans = KMeans(n_clusters=2, random_state=0, n_init=10).fit(df3.drop(columns=['threat_cat']))\n",
    "kmeans.labels_"
   ]
  },
  {
   "cell_type": "markdown",
   "id": "4f72cc1b",
   "metadata": {},
   "source": [
    "### Investigate\n",
    "\n",
    "For now, I am just going to investigate how the KNN model performed as far as labeling in the training set."
   ]
  },
  {
   "cell_type": "code",
   "execution_count": 107,
   "id": "c50dfafc",
   "metadata": {},
   "outputs": [
    {
     "data": {
      "text/plain": [
       "0       1\n",
       "1       1\n",
       "2       1\n",
       "3       0\n",
       "4       1\n",
       "       ..\n",
       "9995    1\n",
       "9996    0\n",
       "9997    0\n",
       "9998    0\n",
       "9999    0\n",
       "Length: 10000, dtype: int32"
      ]
     },
     "execution_count": 107,
     "metadata": {},
     "output_type": "execute_result"
    }
   ],
   "source": [
    "labels = pd.Series(kmeans.labels_)\n",
    "labels"
   ]
  },
  {
   "cell_type": "code",
   "execution_count": 108,
   "id": "6c284e9c",
   "metadata": {},
   "outputs": [],
   "source": [
    "from sklearn.metrics import accuracy_score, precision_score, recall_score, f1_score"
   ]
  },
  {
   "cell_type": "code",
   "execution_count": 109,
   "id": "06a58c04",
   "metadata": {},
   "outputs": [
    {
     "data": {
      "text/plain": [
       "0.4953"
      ]
     },
     "execution_count": 109,
     "metadata": {},
     "output_type": "execute_result"
    }
   ],
   "source": [
    "accuracy_score(df3['threat_cat'], labels)"
   ]
  },
  {
   "cell_type": "code",
   "execution_count": 111,
   "id": "3b7132a2",
   "metadata": {},
   "outputs": [
    {
     "data": {
      "text/plain": [
       "0.19680097185665113"
      ]
     },
     "execution_count": 111,
     "metadata": {},
     "output_type": "execute_result"
    }
   ],
   "source": [
    "precision_score(df3['threat_cat'], labels)"
   ]
  },
  {
   "cell_type": "code",
   "execution_count": 112,
   "id": "fdedd232",
   "metadata": {},
   "outputs": [
    {
     "data": {
      "text/plain": [
       "0.47368421052631576"
      ]
     },
     "execution_count": 112,
     "metadata": {},
     "output_type": "execute_result"
    }
   ],
   "source": [
    "recall_score(df3['threat_cat'], labels)"
   ]
  },
  {
   "cell_type": "markdown",
   "id": "e893550a",
   "metadata": {},
   "source": [
    "### Results\n",
    "\n",
    "So it seems that unsupervised learning would probably not be the way to go. I think this test indicates that logistic regression or another form of supervised learning would be the best applied practice for threat detection. I think this is feasible as it is my understanding that Cobalt's core has vast knowledge pertaining to aspects of a company that would indicate a threat or not, which puts us in a good position to label data observations and put our best foot forward when it comes to training predictive models."
   ]
  },
  {
   "cell_type": "code",
   "execution_count": null,
   "id": "33927dc3",
   "metadata": {},
   "outputs": [],
   "source": []
  }
 ],
 "metadata": {
  "kernelspec": {
   "display_name": "Python 3 (ipykernel)",
   "language": "python",
   "name": "python3"
  },
  "language_info": {
   "codemirror_mode": {
    "name": "ipython",
    "version": 3
   },
   "file_extension": ".py",
   "mimetype": "text/x-python",
   "name": "python",
   "nbconvert_exporter": "python",
   "pygments_lexer": "ipython3",
   "version": "3.9.7"
  }
 },
 "nbformat": 4,
 "nbformat_minor": 5
}
